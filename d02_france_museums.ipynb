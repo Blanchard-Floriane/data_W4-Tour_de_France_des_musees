{
 "cells": [
  {
   "cell_type": "code",
   "execution_count": 4,
   "id": "812a2166-31f3-4716-9cfa-4360ffa4f88a",
   "metadata": {},
   "outputs": [],
   "source": [
    "import numpy as np"
   ]
  },
  {
   "cell_type": "code",
   "execution_count": 5,
   "id": "09b144d7",
   "metadata": {},
   "outputs": [],
   "source": [
    "import numpy.random as random"
   ]
  },
  {
   "cell_type": "code",
   "execution_count": 6,
   "id": "ff988e5f",
   "metadata": {},
   "outputs": [],
   "source": [
    "import pandas as pd"
   ]
  },
  {
   "cell_type": "markdown",
   "id": "bbacbf22",
   "metadata": {},
   "source": [
    "# 2.1. Ouverture du fichier csv sur notebook"
   ]
  },
  {
   "cell_type": "code",
   "execution_count": 7,
   "id": "b4a6de9b",
   "metadata": {},
   "outputs": [
    {
     "data": {
      "text/html": [
       "<div>\n",
       "<style scoped>\n",
       "    .dataframe tbody tr th:only-of-type {\n",
       "        vertical-align: middle;\n",
       "    }\n",
       "\n",
       "    .dataframe tbody tr th {\n",
       "        vertical-align: top;\n",
       "    }\n",
       "\n",
       "    .dataframe thead th {\n",
       "        text-align: right;\n",
       "    }\n",
       "</style>\n",
       "<table border=\"1\" class=\"dataframe\">\n",
       "  <thead>\n",
       "    <tr style=\"text-align: right;\">\n",
       "      <th></th>\n",
       "      <th>osm_id</th>\n",
       "      <th>name</th>\n",
       "      <th>number</th>\n",
       "      <th>street</th>\n",
       "      <th>postal_code</th>\n",
       "      <th>city</th>\n",
       "      <th>country</th>\n",
       "      <th>country_code</th>\n",
       "      <th>lat</th>\n",
       "      <th>lon</th>\n",
       "      <th>website</th>\n",
       "      <th>email</th>\n",
       "      <th>phone</th>\n",
       "      <th>fax</th>\n",
       "      <th>tags</th>\n",
       "      <th>description</th>\n",
       "      <th>date_added</th>\n",
       "      <th>wikidata</th>\n",
       "    </tr>\n",
       "  </thead>\n",
       "  <tbody>\n",
       "    <tr>\n",
       "      <th>3779</th>\n",
       "      <td>1348524503</td>\n",
       "      <td>Vivarium du Moulin</td>\n",
       "      <td>NaN</td>\n",
       "      <td>Rue Principale</td>\n",
       "      <td>68610.0</td>\n",
       "      <td>Thann-Guebwiller</td>\n",
       "      <td>France</td>\n",
       "      <td>fr</td>\n",
       "      <td>47.942258</td>\n",
       "      <td>7.149613</td>\n",
       "      <td>NaN</td>\n",
       "      <td>NaN</td>\n",
       "      <td>NaN</td>\n",
       "      <td>NaN</td>\n",
       "      <td>osm:museum</td>\n",
       "      <td>NaN</td>\n",
       "      <td>40747,87175</td>\n",
       "      <td>NaN</td>\n",
       "    </tr>\n",
       "    <tr>\n",
       "      <th>3780</th>\n",
       "      <td>577287841</td>\n",
       "      <td>Voyage au Temps des impressionnistes</td>\n",
       "      <td>NaN</td>\n",
       "      <td>Rue de Léry</td>\n",
       "      <td>95430.0</td>\n",
       "      <td>Auvers-sur-Oise</td>\n",
       "      <td>France</td>\n",
       "      <td>fr</td>\n",
       "      <td>49.072057</td>\n",
       "      <td>2.166167</td>\n",
       "      <td>NaN</td>\n",
       "      <td>NaN</td>\n",
       "      <td>NaN</td>\n",
       "      <td>NaN</td>\n",
       "      <td>osm:museum</td>\n",
       "      <td>NaN</td>\n",
       "      <td>41141,72722</td>\n",
       "      <td>NaN</td>\n",
       "    </tr>\n",
       "    <tr>\n",
       "      <th>3781</th>\n",
       "      <td>145062184</td>\n",
       "      <td>Wines and Spirits Museum</td>\n",
       "      <td>NaN</td>\n",
       "      <td>Corniche Bonaparte</td>\n",
       "      <td>83150.0</td>\n",
       "      <td>Bandol</td>\n",
       "      <td>France</td>\n",
       "      <td>fr</td>\n",
       "      <td>43.128031</td>\n",
       "      <td>5.749484</td>\n",
       "      <td>NaN</td>\n",
       "      <td>NaN</td>\n",
       "      <td>NaN</td>\n",
       "      <td>NaN</td>\n",
       "      <td>osm:museum</td>\n",
       "      <td>NaN</td>\n",
       "      <td>42367,71351</td>\n",
       "      <td>NaN</td>\n",
       "    </tr>\n",
       "    <tr>\n",
       "      <th>3782</th>\n",
       "      <td>82988725</td>\n",
       "      <td>Xanxotea</td>\n",
       "      <td>NaN</td>\n",
       "      <td>La Place</td>\n",
       "      <td>64240.0</td>\n",
       "      <td>Isturits</td>\n",
       "      <td>France</td>\n",
       "      <td>fr</td>\n",
       "      <td>43.364834</td>\n",
       "      <td>-1.203580</td>\n",
       "      <td>http://www.xanxotea.com/</td>\n",
       "      <td>NaN</td>\n",
       "      <td>NaN</td>\n",
       "      <td>NaN</td>\n",
       "      <td>osm:museum</td>\n",
       "      <td>Musée ethnographique Xanxotea pour découvrir l...</td>\n",
       "      <td>44129,58078</td>\n",
       "      <td>NaN</td>\n",
       "    </tr>\n",
       "    <tr>\n",
       "      <th>3783</th>\n",
       "      <td>277107550</td>\n",
       "      <td>Xylotheque - Kiosque Pedagogique</td>\n",
       "      <td>NaN</td>\n",
       "      <td>Impasse de la Haie Vive</td>\n",
       "      <td>45590.0</td>\n",
       "      <td>Saint-Cyr-en-Val</td>\n",
       "      <td>France</td>\n",
       "      <td>fr</td>\n",
       "      <td>47.825888</td>\n",
       "      <td>1.967795</td>\n",
       "      <td>NaN</td>\n",
       "      <td>NaN</td>\n",
       "      <td>NaN</td>\n",
       "      <td>NaN</td>\n",
       "      <td>osm:museum</td>\n",
       "      <td>NaN</td>\n",
       "      <td>43331,47584</td>\n",
       "      <td>NaN</td>\n",
       "    </tr>\n",
       "  </tbody>\n",
       "</table>\n",
       "</div>"
      ],
      "text/plain": [
       "          osm_id                                  name number  \\\n",
       "3779  1348524503                    Vivarium du Moulin    NaN   \n",
       "3780   577287841  Voyage au Temps des impressionnistes    NaN   \n",
       "3781   145062184              Wines and Spirits Museum    NaN   \n",
       "3782    82988725                              Xanxotea    NaN   \n",
       "3783   277107550      Xylotheque - Kiosque Pedagogique    NaN   \n",
       "\n",
       "                       street  postal_code              city country  \\\n",
       "3779           Rue Principale      68610.0  Thann-Guebwiller  France   \n",
       "3780              Rue de Léry      95430.0   Auvers-sur-Oise  France   \n",
       "3781       Corniche Bonaparte      83150.0            Bandol  France   \n",
       "3782                 La Place      64240.0          Isturits  France   \n",
       "3783  Impasse de la Haie Vive      45590.0  Saint-Cyr-en-Val  France   \n",
       "\n",
       "     country_code        lat       lon                   website email  phone  \\\n",
       "3779           fr  47.942258  7.149613                       NaN   NaN    NaN   \n",
       "3780           fr  49.072057  2.166167                       NaN   NaN    NaN   \n",
       "3781           fr  43.128031  5.749484                       NaN   NaN    NaN   \n",
       "3782           fr  43.364834 -1.203580  http://www.xanxotea.com/   NaN    NaN   \n",
       "3783           fr  47.825888  1.967795                       NaN   NaN    NaN   \n",
       "\n",
       "      fax        tags                                        description  \\\n",
       "3779  NaN  osm:museum                                                NaN   \n",
       "3780  NaN  osm:museum                                                NaN   \n",
       "3781  NaN  osm:museum                                                NaN   \n",
       "3782  NaN  osm:museum  Musée ethnographique Xanxotea pour découvrir l...   \n",
       "3783  NaN  osm:museum                                                NaN   \n",
       "\n",
       "       date_added wikidata  \n",
       "3779  40747,87175      NaN  \n",
       "3780  41141,72722      NaN  \n",
       "3781  42367,71351      NaN  \n",
       "3782  44129,58078      NaN  \n",
       "3783  43331,47584      NaN  "
      ]
     },
     "execution_count": 7,
     "metadata": {},
     "output_type": "execute_result"
    }
   ],
   "source": [
    "# chargement du fichier\n",
    "data_french_museums = pd.read_csv(\"liste-des-musees-de-france-2021-fonctionnel.csv\")\n",
    "\n",
    "# afficher les 5 premières lignes pour tester la bonne importation\n",
    "data_french_museums.tail()"
   ]
  },
  {
   "cell_type": "markdown",
   "id": "7dfcb0da",
   "metadata": {},
   "source": [
    "# 2.2. Réponses aux questions posées par le manager"
   ]
  },
  {
   "cell_type": "raw",
   "id": "78f6b0f0",
   "metadata": {},
   "source": [
    "Combien y-a-t-il de musées en France métropolitaine ?"
   ]
  },
  {
   "cell_type": "code",
   "execution_count": 75,
   "id": "d5a63d0a",
   "metadata": {},
   "outputs": [
    {
     "name": "stdout",
     "output_type": "stream",
     "text": [
      "On dénombre 3784 musées\n"
     ]
    }
   ],
   "source": [
    "#renvoie le nombre de ligne comprises dans cette data frame auxquelles il faut retirer 1 pour ne pas considérer la ligne des titres\n",
    "number = data_french_museums.shape\n",
    "\n",
    "print (\"On dénombre\", (number[0]), \"musées\")"
   ]
  },
  {
   "cell_type": "raw",
   "id": "83f20732",
   "metadata": {},
   "source": [
    "Dans quelle(s) ville(s) y-a-t-il de plus de musées ?"
   ]
  },
  {
   "cell_type": "code",
   "execution_count": 10,
   "id": "d960d489",
   "metadata": {},
   "outputs": [
    {
     "name": "stdout",
     "output_type": "stream",
     "text": [
      "La ville de Paris\n"
     ]
    }
   ],
   "source": [
    "#gather museums by city \n",
    "museum_quantity = data_french_museums[\"city\"].value_counts()\n",
    "\n",
    "#then, extract which city.es encount the most museums\n",
    "city_with_most_museums = museum_quantity.idxmax()\n",
    "\n",
    "print(\"La ville de\", city_with_most_museums)"
   ]
  },
  {
   "cell_type": "raw",
   "id": "ff124869",
   "metadata": {},
   "source": [
    "Quel est le nombre moyen de musées par ville ?"
   ]
  },
  {
   "cell_type": "code",
   "execution_count": 11,
   "id": "8ae83401",
   "metadata": {},
   "outputs": [
    {
     "name": "stdout",
     "output_type": "stream",
     "text": [
      "Il y a en moyenne 1.65 musée par ville.\n"
     ]
    }
   ],
   "source": [
    "museum_average_by_city = data_french_museums[\"city\"].value_counts().mean().round(2)\n",
    "\n",
    "print(\"Il y a en moyenne\", museum_average_by_city, \"musée par ville.\")"
   ]
  },
  {
   "cell_type": "raw",
   "id": "45f1e22f",
   "metadata": {},
   "source": [
    "Quel est le nombre médian de musées par ville ?"
   ]
  },
  {
   "cell_type": "code",
   "execution_count": 19,
   "id": "860ead5d",
   "metadata": {},
   "outputs": [
    {
     "name": "stdout",
     "output_type": "stream",
     "text": [
      "Le nombre médian des musées par ville est de 1 musée.\n"
     ]
    }
   ],
   "source": [
    "museum_median_by_city = data_french_museums[\"city\"].value_counts().median()\n",
    "\n",
    "print(\"Le nombre médian des musées par ville est de\", int(museum_median_by_city), \"musée.\")"
   ]
  },
  {
   "cell_type": "raw",
   "id": "0cf30eb2",
   "metadata": {},
   "source": [
    "Comment sont répartis les musées par type (en pourcentage) ? "
   ]
  },
  {
   "cell_type": "code",
   "execution_count": 105,
   "id": "110c219c",
   "metadata": {},
   "outputs": [
    {
     "name": "stdout",
     "output_type": "stream",
     "text": [
      "Voici une répartition des différents types de musée (en pourcentage):\n"
     ]
    },
    {
     "data": {
      "text/plain": [
       "ecomusee                         10.491543\n",
       "musee technique et industriel     5.549683\n",
       "musee d'histoire                  4.254757\n",
       "musee de beaux-arts               3.303383\n",
       "musee archeologique               2.880550\n",
       "musee d'art                       2.880550\n",
       "maison d'artiste                  1.717759\n",
       "musee d'arts populaires           1.532770\n",
       "musee d'histoire naturelle        1.506342\n",
       "centre d'interpretation           1.215645\n",
       "musee litteraire                  0.872093\n",
       "musee de sciences                 0.607822\n",
       "centre d'art                      0.528541\n",
       "fondation                         0.475687\n",
       "musee d'artiste                   0.396406\n",
       "atelier d'artiste                 0.211416\n",
       "bibliotheque                      0.105708\n",
       "musee ethnographique              0.079281\n",
       "musée de beaux-arts               0.052854\n",
       "type:musee d'arts populaires      0.052854\n",
       "musee d'architecture              0.026427\n",
       "maison litteraire                 0.026427\n",
       "ecomuseum                         0.026427\n",
       "musee d'art populaire             0.026427\n",
       "dtype: float64"
      ]
     },
     "metadata": {},
     "output_type": "display_data"
    }
   ],
   "source": [
    "#split every entry of \"tags\" column with the selector \";\"\n",
    "tags = data_french_museums[\"tags\"].str.split(\";\")\n",
    "\n",
    "#flat my array in the same time it keeps for every data its initial uniq key\n",
    "tags = tags.explode()\n",
    "\n",
    "#capture every string starting with \"type:\" with the rest of the string \"(.*)\"\n",
    "tags_type = tags.str.extract(r\"^type:(.*)\")\n",
    "\n",
    "#obtain % of each type\n",
    "result = (tags_type.value_counts()*100)/ data_french_museums.shape[0]\n",
    "\n",
    "print(\"Voici une répartition des différents types de musée (en pourcentage):\")\n",
    "display(result)"
   ]
  },
  {
   "cell_type": "raw",
   "id": "85716ec9",
   "metadata": {},
   "source": [
    "Combien y-a-t-il de musées dont le nom commence par \"Château\" ?"
   ]
  },
  {
   "cell_type": "code",
   "execution_count": 117,
   "id": "488c50b1",
   "metadata": {},
   "outputs": [
    {
     "name": "stdout",
     "output_type": "stream",
     "text": [
      "Il y a 57 musées dont le nom commence par 'Château'.\n"
     ]
    }
   ],
   "source": [
    "museum_with_castle_title = data_french_museums[\"name\"].str.startswith(\"Château\").value_counts()\n",
    "\n",
    "print(\"Il y a\", museum_with_castle_title[True], \"musées dont le nom commence par 'Château'.\")"
   ]
  },
  {
   "cell_type": "raw",
   "id": "e321db44",
   "metadata": {},
   "source": [
    "Pour combien de musées dispose-t-on de l'adresse du site web ?"
   ]
  },
  {
   "cell_type": "code",
   "execution_count": 120,
   "id": "8c551276",
   "metadata": {},
   "outputs": [
    {
     "name": "stdout",
     "output_type": "stream",
     "text": [
      "Il y a 1636 musées.\n"
     ]
    }
   ],
   "source": [
    "with_website = data_french_museums[\"website\"].count()\n",
    "\n",
    "print(\"Il y a\", with_website, \"musées.\")"
   ]
  },
  {
   "cell_type": "raw",
   "id": "b63d3152",
   "metadata": {},
   "source": [
    "Quel département français possède le plus de musées sur son territoire ?"
   ]
  },
  {
   "cell_type": "code",
   "execution_count": 127,
   "id": "7ecb4fbb",
   "metadata": {},
   "outputs": [
    {
     "name": "stdout",
     "output_type": "stream",
     "text": [
      "C'est le département 75\n"
     ]
    }
   ],
   "source": [
    "# .astype(str) convert float into string, then str[:2] display every chars until position #2 excluding position #2\n",
    "dep_with_most_museums = data_french_museums[\"postal_code\"].astype(str).str[:2].value_counts().idxmax()\n",
    "\n",
    "print(\"C'est le département\", dep_with_most_museums)"
   ]
  },
  {
   "cell_type": "raw",
   "id": "483d8860",
   "metadata": {},
   "source": [
    "Quel département français possède le moins de musées sur son territoire ?"
   ]
  },
  {
   "cell_type": "code",
   "execution_count": 131,
   "id": "8aa8d2e8",
   "metadata": {},
   "outputs": [
    {
     "name": "stdout",
     "output_type": "stream",
     "text": [
      "C'est le département 98\n"
     ]
    }
   ],
   "source": [
    "dep_with_most_museums = data_french_museums[\"postal_code\"].astype(str).str[:2].value_counts().idxmin()\n",
    "\n",
    "print(\"C'est le département\", dep_with_most_museums)"
   ]
  },
  {
   "cell_type": "raw",
   "id": "eece4ff2",
   "metadata": {},
   "source": [
    "Combien de musées ont \"Napoléon\" dans leur nom ?"
   ]
  },
  {
   "cell_type": "code",
   "execution_count": 135,
   "id": "e6b9e52e",
   "metadata": {},
   "outputs": [
    {
     "name": "stdout",
     "output_type": "stream",
     "text": [
      "En France Métropolitaine, 4 musées contiennent le mot 'Napoléon' dans leur nom.\n"
     ]
    }
   ],
   "source": [
    "museum_with_napoleon_title = data_french_museums[\"name\"].str.contains(\"Napoléon\").value_counts()\n",
    "\n",
    "print(\"En France Métropolitaine,\", museum_with_napoleon_title[True], \"musées contiennent le mot 'Napoléon' dans leur nom.\")"
   ]
  },
  {
   "cell_type": "markdown",
   "id": "2ef43f0c",
   "metadata": {},
   "source": [
    "# 2.3. Proposition de deux axes d'analyse supplémentaires"
   ]
  },
  {
   "cell_type": "markdown",
   "id": "143edf9d",
   "metadata": {},
   "source": [
    "Top 5 des musées les plus fréquentées : \n",
    "source (2005 à 2018) se trouve \"https://www.insee.fr/fr/statistiques/4277723?sommaire=4318291\", on peut y télécharger le fichier xlsx. Fichier à transformer en csv. \n",
    "À l'aide de ce fichier csv, utiliser la fonction .sorted() pour classer la colonne 2018 par ordre croissant. Retirer les établissemnts qui ne sont pas des musées. \n",
    "De cette liste on pourra extraire quels sont les 5 musées qui ont été le plus fréquenté.\n",
    "\n",
    "Flop 5 des musées qui font le moins envie: \n",
    "Source (2016) : https://www.topito.com/top-musees-pas-sexy-bonjour-ennui\n",
    "Là, il s'agira de scrapper les données en recherchant les noms des musées (css.h1)."
   ]
  },
  {
   "cell_type": "code",
   "execution_count": null,
   "id": "8be86af0",
   "metadata": {},
   "outputs": [],
   "source": []
  }
 ],
 "metadata": {
  "kernelspec": {
   "display_name": "Python 3 (ipykernel)",
   "language": "python",
   "name": "python3"
  },
  "language_info": {
   "codemirror_mode": {
    "name": "ipython",
    "version": 3
   },
   "file_extension": ".py",
   "mimetype": "text/x-python",
   "name": "python",
   "nbconvert_exporter": "python",
   "pygments_lexer": "ipython3",
   "version": "3.11.3"
  }
 },
 "nbformat": 4,
 "nbformat_minor": 5
}
